{
 "cells": [
  {
   "cell_type": "markdown",
   "metadata": {},
   "source": [
    "## Link Prediction with Common Neighbors"
   ]
  },
  {
   "cell_type": "code",
   "execution_count": 1,
   "metadata": {},
   "outputs": [],
   "source": [
    "# Import the required libraries\n",
    "import networkx as nx\n",
    "import matplotlib.pyplot as plt"
   ]
  },
  {
   "cell_type": "code",
   "execution_count": 2,
   "metadata": {},
   "outputs": [
    {
     "data": {
      "image/png": "[encoded data removed]",
      "text/plain": [
       "<Figure size 432x288 with 1 Axes>"
      ]
     },
     "metadata": {},
     "output_type": "display_data"
    }
   ],
   "source": [
    "# Create an empty graph with no nodes and no edges using the Graph() function\n",
    "G = nx.Graph()\n",
    "\n",
    "# Add multiple nodes to the graph using add_node_from\n",
    "G.add_nodes_from(['A', 'B', 'C', 'D', 'E', 'F', 'G', 'H'])\n",
    "\n",
    "# Add multiple nodes to the graph using add_node_from\n",
    "G.add_edges_from([('A', 'B'), ('A', 'C'), ('B', 'D'), ('D', 'F'), ('D', 'G'), \n",
    "                  ('E', 'F'), ('E', 'G'), ('E', 'H'), ('F', 'G'), ('G', 'H')])\n",
    "\n",
    "# Examine the nodes and edges\n",
    "nx.draw(G, with_labels = True)\n",
    "plt.show()"
   ]
  },
  {
   "cell_type": "code",
   "execution_count": 3,
   "metadata": {},
   "outputs": [
    {
     "data": {
      "text/plain": [
       "['E', 'G']"
      ]
     },
     "execution_count": 3,
     "metadata": {},
     "output_type": "execute_result"
    }
   ],
   "source": [
    "# Calculate common neighbors between node F and node H\n",
    "list(nx.common_neighbors(G,'F','H'))"
   ]
  },
  {
   "cell_type": "code",
   "execution_count": 4,
   "metadata": {},
   "outputs": [
    {
     "data": {
      "text/plain": [
       "[('B', 'E', 0),\n",
       " ('C', 'B', 1),\n",
       " ('C', 'E', 0),\n",
       " ('C', 'G', 0),\n",
       " ('D', 'A', 1),\n",
       " ('D', 'C', 0),\n",
       " ('D', 'E', 2),\n",
       " ('E', 'A', 0),\n",
       " ('F', 'A', 0),\n",
       " ('F', 'B', 1),\n",
       " ('F', 'C', 0),\n",
       " ('G', 'A', 0),\n",
       " ('G', 'B', 1),\n",
       " ('H', 'A', 0),\n",
       " ('H', 'B', 0),\n",
       " ('H', 'C', 0),\n",
       " ('H', 'D', 1),\n",
       " ('H', 'F', 2)]"
      ]
     },
     "execution_count": 4,
     "metadata": {},
     "output_type": "execute_result"
    }
   ],
   "source": [
    "# Calculate common neighbors for all node pairs that are not already connected\n",
    "common_neighbors = [(n[0], n[1], len(list(nx.common_neighbors(G,n[0],n[1])))) for n in nx.non_edges(G)]\n",
    "sorted(common_neighbors)"
   ]
  },
  {
   "cell_type": "markdown",
   "metadata": {},
   "source": [
    "## Link Prediction with Jaccard Coefficient "
   ]
  },
  {
   "cell_type": "code",
   "execution_count": 5,
   "metadata": {},
   "outputs": [
    {
     "data": {
      "text/plain": [
       "[('B', 'E', 0.0),\n",
       " ('C', 'B', 0.5),\n",
       " ('C', 'E', 0.0),\n",
       " ('C', 'G', 0.0),\n",
       " ('D', 'A', 0.25),\n",
       " ('D', 'C', 0.0),\n",
       " ('D', 'E', 0.5),\n",
       " ('E', 'A', 0.0),\n",
       " ('F', 'A', 0.0),\n",
       " ('F', 'B', 0.25),\n",
       " ('F', 'C', 0.0),\n",
       " ('G', 'A', 0.0),\n",
       " ('G', 'B', 0.2),\n",
       " ('H', 'A', 0.0),\n",
       " ('H', 'B', 0.0),\n",
       " ('H', 'C', 0.0),\n",
       " ('H', 'D', 0.25),\n",
       " ('H', 'F', 0.6666666666666666)]"
      ]
     },
     "execution_count": 5,
     "metadata": {},
     "output_type": "execute_result"
    }
   ],
   "source": [
    "# Calculate jaccard coefficient for all node pairs that are not already connected\n",
    "jaccard = list(nx.jaccard_coefficient(G))\n",
    "sorted(jaccard)"
   ]
  },
  {
   "cell_type": "markdown",
   "metadata": {},
   "source": [
    "## Link Prediction with Preferential Attachment"
   ]
  },
  {
   "cell_type": "code",
   "execution_count": 6,
   "metadata": {},
   "outputs": [
    {
     "data": {
      "text/plain": [
       "[('B', 'E', 6),\n",
       " ('C', 'B', 2),\n",
       " ('C', 'E', 3),\n",
       " ('C', 'G', 4),\n",
       " ('D', 'A', 6),\n",
       " ('D', 'C', 3),\n",
       " ('D', 'E', 9),\n",
       " ('E', 'A', 6),\n",
       " ('F', 'A', 6),\n",
       " ('F', 'B', 6),\n",
       " ('F', 'C', 3),\n",
       " ('G', 'A', 8),\n",
       " ('G', 'B', 8),\n",
       " ('H', 'A', 4),\n",
       " ('H', 'B', 4),\n",
       " ('H', 'C', 2),\n",
       " ('H', 'D', 6),\n",
       " ('H', 'F', 6)]"
      ]
     },
     "execution_count": 6,
     "metadata": {},
     "output_type": "execute_result"
    }
   ],
   "source": [
    "# Calculate preferential attachment for all node pairs that are not already connected\n",
    "pref = list(nx.preferential_attachment(G))\n",
    "sorted(pref)"
   ]
  }
 ],
 "metadata": {
  "interpreter": {
   "hash": "15b0083f1850e8bf0d41bef0d753b5e596b9ca1183a11f045f4ea18f290943fa"
  },
  "kernelspec": {
   "display_name": "Python 3.9.12 64-bit",
   "language": "python",
   "name": "python3"
  },
  "language_info": {
   "codemirror_mode": {
    "name": "ipython",
    "version": 3
   },
   "file_extension": ".py",
   "mimetype": "text/x-python",
   "name": "python",
   "nbconvert_exporter": "python",
   "pygments_lexer": "ipython3",
   "version": "3.9.12"
  }
 },
 "nbformat": 4,
 "nbformat_minor": 2
}

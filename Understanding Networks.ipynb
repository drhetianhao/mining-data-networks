{
 "cells": [
  {
   "cell_type": "markdown",
   "metadata": {},
   "source": [
    "## Understanding Networks"
   ]
  },
  {
   "cell_type": "code",
   "execution_count": 20,
   "metadata": {},
   "outputs": [],
   "source": [
    "# Import the required libraries\n",
    "import networkx as nx\n",
    "import matplotlib.pyplot as plt"
   ]
  },
  {
   "cell_type": "code",
   "execution_count": 21,
   "metadata": {},
   "outputs": [],
   "source": [
    "# Create an empty graph with no nodes and no edges using the Graph() function\n",
    "G = nx.Graph()\n",
    "\n",
    "# Add single nodes to the graph using add_node()\n",
    "G.add_node(1)\n",
    "G.nodes[1]['Name'] = 'Justin'\n",
    "G.nodes[1]['Age'] = 30\n",
    "\n",
    "# Add multiple nodes to the graph using add_node_from\n",
    "G.add_nodes_from([2, 3])"
   ]
  },
  {
   "cell_type": "code",
   "execution_count": 22,
   "metadata": {},
   "outputs": [
    {
     "name": "stdout",
     "output_type": "stream",
     "text": [
      "[(1, {'Name': 'Justin', 'Age': 30}), (2, {}), (3, {})]\n"
     ]
    }
   ],
   "source": [
    "# Examine how nodes are stored\n",
    "list_of_nodes = list(G.nodes(data=True))\n",
    "print(list_of_nodes)"
   ]
  },
  {
   "cell_type": "code",
   "execution_count": 23,
   "metadata": {},
   "outputs": [
    {
     "data": {
      "image/png": "[encoded data removed]",
      "text/plain": [
       "<Figure size 432x288 with 1 Axes>"
      ]
     },
     "metadata": {},
     "output_type": "display_data"
    }
   ],
   "source": [
    "# Visualize the Network\n",
    "nx.draw(G, with_labels = True)\n",
    "plt.show()"
   ]
  },
  {
   "cell_type": "code",
   "execution_count": 30,
   "metadata": {},
   "outputs": [],
   "source": [
    "# Add edges one at a time using add_edge()\n",
    "G.add_edge(1, 2)\n",
    "G.edges[1,2]['Relationship'] = 'Spouse'\n",
    "G.edges[1,2]['Date'] = 2018\n",
    "\n",
    "# Add multiple edges at once\n",
    "G.add_edges_from([(2, 3), (1, 3)])"
   ]
  },
  {
   "cell_type": "code",
   "execution_count": 31,
   "metadata": {},
   "outputs": [
    {
     "name": "stdout",
     "output_type": "stream",
     "text": [
      "[(1, 2, {'Relationship': 'Spouse', 'Date': 2018}), (1, 3, {}), (2, 3, {})]\n"
     ]
    }
   ],
   "source": [
    "# Examine how edges are stored\n",
    "list_of_edges = list(G.edges(data=True))\n",
    "print(list_of_edges)"
   ]
  },
  {
   "cell_type": "code",
   "execution_count": 32,
   "metadata": {},
   "outputs": [
    {
     "data": {
      "image/png": "[encoded data removed]",
      "text/plain": [
       "<Figure size 432x288 with 1 Axes>"
      ]
     },
     "metadata": {},
     "output_type": "display_data"
    }
   ],
   "source": [
    "# Examine the nodes and edges\n",
    "nx.draw(G, with_labels = True)\n",
    "plt.show()"
   ]
  },
  {
   "cell_type": "markdown",
   "metadata": {},
   "source": [
    "## Directed vs. Undirected Networks"
   ]
  },
  {
   "cell_type": "code",
   "execution_count": 33,
   "metadata": {},
   "outputs": [],
   "source": [
    "# Create an empty undirected graph using Graph() and directed graph using DiGraph() \n",
    "undirected_graph = nx.Graph()\n",
    "directed_graph = nx.DiGraph()\n",
    "multi_graph = nx.MultiGraph()"
   ]
  },
  {
   "cell_type": "code",
   "execution_count": 34,
   "metadata": {},
   "outputs": [],
   "source": [
    "# Add edges to directed and undirected graphs\n",
    "undirected_graph.add_edge(1, 2)\n",
    "\n",
    "directed_graph.add_edge(1, 2)"
   ]
  },
  {
   "cell_type": "code",
   "execution_count": 35,
   "metadata": {},
   "outputs": [
    {
     "data": {
      "image/png": "[encoded data removed]",
      "text/plain": [
       "<Figure size 432x288 with 1 Axes>"
      ]
     },
     "metadata": {},
     "output_type": "display_data"
    }
   ],
   "source": [
    "# Visualize\n",
    "nx.draw(directed_graph, with_labels = True)\n",
    "plt.show()"
   ]
  },
  {
   "cell_type": "code",
   "execution_count": null,
   "metadata": {},
   "outputs": [],
   "source": []
  }
 ],
 "metadata": {
  "interpreter": {
   "hash": "15b0083f1850e8bf0d41bef0d753b5e596b9ca1183a11f045f4ea18f290943fa"
  },
  "kernelspec": {
   "display_name": "Python 3.9.12 64-bit",
   "language": "python",
   "name": "python3"
  },
  "language_info": {
   "codemirror_mode": {
    "name": "ipython",
    "version": 3
   },
   "file_extension": ".py",
   "mimetype": "text/x-python",
   "name": "python",
   "nbconvert_exporter": "python",
   "pygments_lexer": "ipython3",
   "version": "3.9.12"
  }
 },
 "nbformat": 4,
 "nbformat_minor": 2
}
